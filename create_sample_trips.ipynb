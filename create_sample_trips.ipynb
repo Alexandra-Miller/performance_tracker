{
 "cells": [
  {
   "cell_type": "code",
   "execution_count": 40,
   "metadata": {},
   "outputs": [
    {
     "data": {
      "text/plain": [
       "'DONE'"
      ]
     },
     "execution_count": 40,
     "metadata": {},
     "output_type": "execute_result"
    }
   ],
   "source": [
    "import pandas as pd;\n",
    "import json;\n",
    "df = pd.read_csv('data/analysis_window_schedule.csv', parse_dates=['datetime']);\n",
    "trips = df.sort_values('datetime').groupby('trip_id');\n",
    "data = trips.apply(lambda x: x.to_json(orient='records'));\n",
    "dataJSON = data.to_json(orient='records');\n",
    "\n",
    "with open('data/sample_schedule.txt', 'w') as outfile:  \n",
    "    json.dump(dataJSON, outfile)\n",
    "\"DONE\""
   ]
  }
 ],
 "metadata": {
  "kernelspec": {
   "display_name": "Python 3",
   "language": "python",
   "name": "python3"
  },
  "language_info": {
   "codemirror_mode": {
    "name": "ipython",
    "version": 3
   },
   "file_extension": ".py",
   "mimetype": "text/x-python",
   "name": "python",
   "nbconvert_exporter": "python",
   "pygments_lexer": "ipython3",
   "version": "3.7.1"
  }
 },
 "nbformat": 4,
 "nbformat_minor": 2
}
