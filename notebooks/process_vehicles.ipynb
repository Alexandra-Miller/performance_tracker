{
 "cells": [
  {
   "cell_type": "markdown",
   "metadata": {},
   "source": [
    "This script will process the vehicle positions in the raw data directory"
   ]
  },
  {
   "cell_type": "code",
   "execution_count": 8,
   "metadata": {},
   "outputs": [
    {
     "name": "stdout",
     "output_type": "stream",
     "text": [
      "/home/cts/vol/notebooks\n",
      "['/home/cts/vol/notebooks/../../venv', '/home/cts/vol/notebooks/../../vol', '/home/cts/vol/notebooks/../../entrypoint.sh', '/home/cts/vol/notebooks/../../setup_venv.sh', '/home/cts/vol/notebooks/../../Dockerfile', '/home/cts/vol/notebooks/../../build.sh', '/home/cts/vol/notebooks/../../requirements.txt']\n"
     ]
    }
   ],
   "source": [
    "import os\n",
    "import glob\n",
    "\n",
    "cwd = os.getcwd()\n",
    "print(cwd)\n",
    "print(glob.glob(cwd + \"/../../*\"))"
   ]
  }
 ],
 "metadata": {
  "kernelspec": {
   "display_name": "Python 3",
   "language": "python",
   "name": "python3"
  },
  "language_info": {
   "codemirror_mode": {
    "name": "ipython",
    "version": 3
   },
   "file_extension": ".py",
   "mimetype": "text/x-python",
   "name": "python",
   "nbconvert_exporter": "python",
   "pygments_lexer": "ipython3",
   "version": "3.6.8"
  }
 },
 "nbformat": 4,
 "nbformat_minor": 2
}
