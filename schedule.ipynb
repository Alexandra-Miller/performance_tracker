{
 "cells": [
  {
   "cell_type": "markdown",
   "metadata": {},
   "source": [
    "### Set date and time interval to select"
   ]
  },
  {
   "cell_type": "code",
   "execution_count": 3,
   "metadata": {},
   "outputs": [],
   "source": [
    "today = '10/30/18'\n",
    "start_time = '06:00:00'\n",
    "end_time = '09:00:00'"
   ]
  },
  {
   "cell_type": "markdown",
   "metadata": {},
   "source": [
    "### Select time window from schedule for analysis"
   ]
  },
  {
   "cell_type": "code",
   "execution_count": null,
   "metadata": {},
   "outputs": [],
   "source": [
    "from analyzer.GTFS import load_and_parse_schedule\n",
    "\n",
    "analysis_window = load_and_parse_schedule(today, start_time, end_time)\n",
    "\"DONE\""
   ]
  },
  {
   "cell_type": "code",
   "execution_count": 4,
   "metadata": {},
   "outputs": [],
   "source": [
    "analysis_window.to_csv('analysis_window_schedule.csv')"
   ]
  },
  {
   "cell_type": "code",
   "execution_count": 2,
   "metadata": {},
   "outputs": [
    {
     "data": {
      "text/html": [
       "<div>\n",
       "<style scoped>\n",
       "    .dataframe tbody tr th:only-of-type {\n",
       "        vertical-align: middle;\n",
       "    }\n",
       "\n",
       "    .dataframe tbody tr th {\n",
       "        vertical-align: top;\n",
       "    }\n",
       "\n",
       "    .dataframe thead th {\n",
       "        text-align: right;\n",
       "    }\n",
       "</style>\n",
       "<table border=\"1\" class=\"dataframe\">\n",
       "  <thead>\n",
       "    <tr style=\"text-align: right;\">\n",
       "      <th></th>\n",
       "      <th>datetime</th>\n",
       "      <th>trip_id</th>\n",
       "      <th>arrival_time</th>\n",
       "      <th>departure_time</th>\n",
       "      <th>stop_id</th>\n",
       "      <th>station_id</th>\n",
       "      <th>display_name</th>\n",
       "      <th>stop_headsign</th>\n",
       "      <th>relative_position</th>\n",
       "      <th>geometry</th>\n",
       "    </tr>\n",
       "  </thead>\n",
       "  <tbody>\n",
       "    <tr>\n",
       "      <th>2</th>\n",
       "      <td>2018-10-30 07:26:00</td>\n",
       "      <td>46668487</td>\n",
       "      <td>07:26:00</td>\n",
       "      <td>07:26:00</td>\n",
       "      <td>80409</td>\n",
       "      <td>9</td>\n",
       "      <td>Union Station - Metro Gold Line</td>\n",
       "      <td>804 - Atlantic Station</td>\n",
       "      <td>0.191207</td>\n",
       "      <td>POINT (-118.23476 34.0560599)</td>\n",
       "    </tr>\n",
       "    <tr>\n",
       "      <th>3</th>\n",
       "      <td>2018-10-30 08:19:00</td>\n",
       "      <td>46668488</td>\n",
       "      <td>08:19:00</td>\n",
       "      <td>08:19:00</td>\n",
       "      <td>80409</td>\n",
       "      <td>9</td>\n",
       "      <td>Union Station - Metro Gold Line</td>\n",
       "      <td>804 - Azusa / Citrus</td>\n",
       "      <td>0.191207</td>\n",
       "      <td>POINT (-118.23476 34.0560599)</td>\n",
       "    </tr>\n",
       "    <tr>\n",
       "      <th>16</th>\n",
       "      <td>2018-10-30 07:40:00</td>\n",
       "      <td>46668503</td>\n",
       "      <td>07:40:00</td>\n",
       "      <td>07:40:00</td>\n",
       "      <td>80409</td>\n",
       "      <td>9</td>\n",
       "      <td>Union Station - Metro Gold Line</td>\n",
       "      <td>804 - Atlantic Station</td>\n",
       "      <td>0.191207</td>\n",
       "      <td>POINT (-118.23476 34.0560599)</td>\n",
       "    </tr>\n",
       "    <tr>\n",
       "      <th>17</th>\n",
       "      <td>2018-10-30 08:33:00</td>\n",
       "      <td>46668504</td>\n",
       "      <td>08:33:00</td>\n",
       "      <td>08:33:00</td>\n",
       "      <td>80409</td>\n",
       "      <td>9</td>\n",
       "      <td>Union Station - Metro Gold Line</td>\n",
       "      <td>804 - Azusa / Citrus</td>\n",
       "      <td>0.191207</td>\n",
       "      <td>POINT (-118.23476 34.0560599)</td>\n",
       "    </tr>\n",
       "    <tr>\n",
       "      <th>29</th>\n",
       "      <td>2018-10-30 06:13:00</td>\n",
       "      <td>46668518</td>\n",
       "      <td>06:13:00</td>\n",
       "      <td>06:13:00</td>\n",
       "      <td>80409</td>\n",
       "      <td>9</td>\n",
       "      <td>Union Station - Metro Gold Line</td>\n",
       "      <td>804 - Azusa / Citrus</td>\n",
       "      <td>0.191207</td>\n",
       "      <td>POINT (-118.23476 34.0560599)</td>\n",
       "    </tr>\n",
       "  </tbody>\n",
       "</table>\n",
       "</div>"
      ],
      "text/plain": [
       "              datetime   trip_id arrival_time departure_time  stop_id  \\\n",
       "2  2018-10-30 07:26:00  46668487     07:26:00       07:26:00    80409   \n",
       "3  2018-10-30 08:19:00  46668488     08:19:00       08:19:00    80409   \n",
       "16 2018-10-30 07:40:00  46668503     07:40:00       07:40:00    80409   \n",
       "17 2018-10-30 08:33:00  46668504     08:33:00       08:33:00    80409   \n",
       "29 2018-10-30 06:13:00  46668518     06:13:00       06:13:00    80409   \n",
       "\n",
       "   station_id                     display_name           stop_headsign  \\\n",
       "2           9  Union Station - Metro Gold Line  804 - Atlantic Station   \n",
       "3           9  Union Station - Metro Gold Line    804 - Azusa / Citrus   \n",
       "16          9  Union Station - Metro Gold Line  804 - Atlantic Station   \n",
       "17          9  Union Station - Metro Gold Line    804 - Azusa / Citrus   \n",
       "29          9  Union Station - Metro Gold Line    804 - Azusa / Citrus   \n",
       "\n",
       "    relative_position                       geometry  \n",
       "2            0.191207  POINT (-118.23476 34.0560599)  \n",
       "3            0.191207  POINT (-118.23476 34.0560599)  \n",
       "16           0.191207  POINT (-118.23476 34.0560599)  \n",
       "17           0.191207  POINT (-118.23476 34.0560599)  \n",
       "29           0.191207  POINT (-118.23476 34.0560599)  "
      ]
     },
     "execution_count": 2,
     "metadata": {},
     "output_type": "execute_result"
    }
   ],
   "source": [
    "analysis_window.head()"
   ]
  }
 ],
 "metadata": {
  "kernelspec": {
   "display_name": "Python 3",
   "language": "python",
   "name": "python3"
  },
  "language_info": {
   "codemirror_mode": {
    "name": "ipython",
    "version": 3
   },
   "file_extension": ".py",
   "mimetype": "text/x-python",
   "name": "python",
   "nbconvert_exporter": "python",
   "pygments_lexer": "ipython3",
   "version": "3.7.1"
  }
 },
 "nbformat": 4,
 "nbformat_minor": 2
}
